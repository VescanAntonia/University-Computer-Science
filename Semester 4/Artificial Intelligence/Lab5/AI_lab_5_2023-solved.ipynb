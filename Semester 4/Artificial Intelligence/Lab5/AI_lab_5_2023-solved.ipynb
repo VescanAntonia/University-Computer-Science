{
 "cells": [
  {
   "cell_type": "markdown",
   "id": "b8210b19",
   "metadata": {},
   "source": [
    "## A.I. Assignment 5\n",
    "\n",
    "## Learning Goals\n",
    "\n",
    "By the end of this lab, you should be able to:\n",
    "* Get more familiar with tensors in pytorch \n",
    "* Create a simple multilayer perceptron model with pytorch\n",
    "* Visualise the parameters\n",
    "\n",
    "\n",
    "### Task\n",
    "\n",
    "Build a fully connected feed forward network that adds two bits. Determine the a propper achitecture for this network (what database you use for this problem? how many layers? how many neurons on each layer? what is the activation function? what is the loss function? etc)\n",
    "\n",
    "Create at least 3 such networks and compare their performance (how accurate they are?, how farst they are trained to get at 1 accuracy?)\n",
    "\n",
    "Display for the best one the weights for each layer.\n"
   ]
  },
  {
   "cell_type": "code",
   "execution_count": 1,
   "id": "e3614e5f",
   "metadata": {},
   "outputs": [],
   "source": [
    "import torch\n",
    "import torch.nn as nn\n",
    "from collections import OrderedDict\n"
   ]
  },
  {
   "cell_type": "code",
   "execution_count": 4,
   "id": "5ee7e7d7",
   "metadata": {},
   "outputs": [],
   "source": [
    "# your code here\n",
    "# model1 = nn.Sequential(OrderedDict([\n",
    "#    ('hidden', nn.\n",
    "# ]))\n",
    "import torch\n",
    "import torch.nn as nn\n",
    "import torch.optim as optim\n",
    "from collections import OrderedDict\n",
    "\n",
    "# # define the dataset\n",
    "# X_train = torch.tensor([[0, 0], [0, 1], [1, 0], [1, 1]], dtype=torch.float32)\n",
    "# y_train = torch.tensor([[0], [1], [1], [2]], dtype=torch.float32)\n",
    "\n",
    "# define the model architecture\n",
    "def create_model(hidden_size):\n",
    "    model = nn.Sequential(OrderedDict([\n",
    "        ('fc1', nn.Linear(2, hidden_size)),\n",
    "        ('relu1', nn.ReLU()),\n",
    "        ('fc2', nn.Linear(hidden_size, 1)),\n",
    "        ('softmax', nn.Softmax(dim=1))\n",
    "    ]))\n",
    "    return model\n",
    "# create three models with different hidden layer sizes\n",
    "model1 = create_model(8)\n",
    "model2 = create_model(16)\n",
    "model3 = create_model(32)\n"
   ]
  },
  {
   "cell_type": "code",
   "execution_count": 6,
   "id": "665ae958",
   "metadata": {},
   "outputs": [
    {
     "name": "stdout",
     "output_type": "stream",
     "text": [
      "Sequential(\n",
      "  (fc1): Linear(in_features=2, out_features=8, bias=True)\n",
      "  (relu1): ReLU()\n",
      "  (fc2): Linear(in_features=8, out_features=1, bias=True)\n",
      "  (softmax): Softmax(dim=1)\n",
      ")\n",
      "Sequential(\n",
      "  (fc1): Linear(in_features=2, out_features=16, bias=True)\n",
      "  (relu1): ReLU()\n",
      "  (fc2): Linear(in_features=16, out_features=1, bias=True)\n",
      "  (softmax): Softmax(dim=1)\n",
      ")\n",
      "Sequential(\n",
      "  (fc1): Linear(in_features=2, out_features=32, bias=True)\n",
      "  (relu1): ReLU()\n",
      "  (fc2): Linear(in_features=32, out_features=1, bias=True)\n",
      "  (softmax): Softmax(dim=1)\n",
      ")\n"
     ]
    }
   ],
   "source": [
    "print(model1)\n",
    "print(model2)\n",
    "print(model3)"
   ]
  },
  {
   "cell_type": "code",
   "execution_count": 8,
   "id": "e26f0d3e",
   "metadata": {},
   "outputs": [
    {
     "name": "stdout",
     "output_type": "stream",
     "text": [
      "tensor([[0., 0.],\n",
      "        [0., 1.],\n",
      "        [1., 0.],\n",
      "        [1., 1.]]) tensor([[0.],\n",
      "        [1.],\n",
      "        [1.],\n",
      "        [2.]])\n"
     ]
    }
   ],
   "source": [
    "# your code here\n",
    "#data_in = torch.tensor( ...\n",
    "# define the dataset\n",
    "X_train = torch.tensor([[0, 0], [0, 1], [1, 0], [1, 1]], dtype=torch.float32)\n",
    "y_train = torch.tensor([[0], [1], [1], [2]], dtype=torch.float32)\n",
    "#print(data_in)\n",
    "print(X_train, y_train)"
   ]
  },
  {
   "cell_type": "code",
   "execution_count": 9,
   "id": "4fb16bbc",
   "metadata": {},
   "outputs": [
    {
     "name": "stdout",
     "output_type": "stream",
     "text": [
      "tensor([[0., 0.],\n",
      "        [0., 1.],\n",
      "        [1., 0.],\n",
      "        [1., 1.]]) tensor([[0.],\n",
      "        [1.],\n",
      "        [1.],\n",
      "        [2.]])\n"
     ]
    }
   ],
   "source": [
    "# your code here\n",
    "# data_target = torch.tensor( ...\n",
    "X_test = torch.tensor([[0, 0], [0, 1], [1, 0], [1, 1]], dtype=torch.float32)\n",
    "y_test = torch.tensor([[0], [1], [1], [2]], dtype=torch.float32)\n",
    "#print(data_target)\n",
    "print(X_test,y_test)"
   ]
  },
  {
   "cell_type": "code",
   "execution_count": 20,
   "id": "69d920ed",
   "metadata": {},
   "outputs": [],
   "source": [
    "# your code here\n",
    "# criterion = \n",
    "# optimizer = \n",
    "\n",
    "\n",
    "# define the loss function and optimizer\n",
    "criterion = nn.MSELoss()\n",
    "optimizer1 = optim.SGD(model1.parameters(), lr=0.01)\n",
    "optimizer2 = optim.SGD(model2.parameters(), lr=0.01)\n",
    "optimizer3 = optim.SGD(model3.parameters(), lr=0.01)\n"
   ]
  },
  {
   "cell_type": "code",
   "execution_count": 21,
   "id": "cde91f6f",
   "metadata": {},
   "outputs": [],
   "source": [
    "# your code here\n",
    "# Train the model\n",
    "# train the models\n",
    "for epoch in range(1000):\n",
    "    # train model1\n",
    "    optimizer1.zero_grad()\n",
    "    output1 = model1(X_train)\n",
    "    loss1 = criterion(output1, y_train)\n",
    "    loss1.backward()\n",
    "    optimizer1.step()\n",
    "\n",
    "    # train model2\n",
    "    optimizer2.zero_grad()\n",
    "    output2 = model2(X_train)\n",
    "    loss2 = criterion(output2, y_train)\n",
    "    loss2.backward()\n",
    "    optimizer2.step()\n",
    "\n",
    "    # train model3\n",
    "    optimizer3.zero_grad()\n",
    "    output3 = model3(X_train)\n",
    "    loss3 = criterion(output3, y_train)\n",
    "    loss3.backward()\n",
    "    optimizer3.step()"
   ]
  },
  {
   "cell_type": "code",
   "execution_count": 15,
   "id": "dff3ec1a",
   "metadata": {},
   "outputs": [
    {
     "name": "stdout",
     "output_type": "stream",
     "text": [
      "Model 1 accuracy: 0.25\n",
      "Model 2 accuracy: 0.25\n",
      "Model 3 accuracy: 0.25\n"
     ]
    }
   ],
   "source": [
    "# your code here\n",
    "# visualize the resuLts\n",
    "with torch.no_grad():\n",
    "    output1 = model1(X_test)\n",
    "    output2 = model2(X_test)\n",
    "    output3 = model3(X_test)\n",
    "\n",
    "    # compute the accuracy of each model\n",
    "    correct1 = (output1.argmax(dim=1) == y_test.squeeze()).sum().item()\n",
    "    correct2 = (output2.argmax(dim=1) == y_test.squeeze()).sum().item()\n",
    "    correct3 = (output3.argmax(dim=1) == y_test.squeeze()).sum().item()\n",
    "    accuracy1 = correct1 / len(X_test)\n",
    "    accuracy2 = correct2 / len(X_test)\n",
    "    accuracy3 = correct3 / len(X_test)\n",
    "\n",
    "    print('Model 1 accuracy:', accuracy1)\n",
    "    print('Model 2 accuracy:', accuracy2)\n",
    "    print('Model 3 accuracy:', accuracy3)\n"
   ]
  },
  {
   "cell_type": "code",
   "execution_count": 17,
   "id": "c1a7518b",
   "metadata": {},
   "outputs": [
    {
     "name": "stdout",
     "output_type": "stream",
     "text": [
      "Model 3 weights:\n",
      "fc1.weight tensor([[-0.0964, -0.1750],\n",
      "        [-0.6075,  0.2686],\n",
      "        [-0.5318,  0.4045],\n",
      "        [ 0.3965, -0.3891],\n",
      "        [-0.4404, -0.5427],\n",
      "        [ 0.2578,  0.2097],\n",
      "        [-0.2590, -0.1352],\n",
      "        [ 0.3707, -0.3916],\n",
      "        [-0.6741, -0.0578],\n",
      "        [ 0.6135, -0.6562],\n",
      "        [ 0.6062,  0.2041],\n",
      "        [ 0.2783, -0.6356],\n",
      "        [ 0.2140, -0.2126],\n",
      "        [ 0.5532,  0.4824],\n",
      "        [-0.5927, -0.2446],\n",
      "        [ 0.4759, -0.0683],\n",
      "        [ 0.1449,  0.6095],\n",
      "        [ 0.4482,  0.0252],\n",
      "        [ 0.4389, -0.3026],\n",
      "        [-0.1641,  0.5191],\n",
      "        [ 0.1873, -0.1687],\n",
      "        [-0.3925,  0.4243],\n",
      "        [-0.2077, -0.0318],\n",
      "        [-0.4645, -0.3197],\n",
      "        [ 0.2273,  0.3453],\n",
      "        [ 0.2290,  0.6282],\n",
      "        [ 0.0236, -0.1197],\n",
      "        [ 0.3291,  0.4084],\n",
      "        [ 0.0112, -0.2879],\n",
      "        [ 0.2362, -0.4540],\n",
      "        [-0.2977, -0.2965],\n",
      "        [-0.4350,  0.5963]])\n",
      "fc1.bias tensor([ 0.5282, -0.2837, -0.6493, -0.0696,  0.2106, -0.5841,  0.1649, -0.4171,\n",
      "         0.6069,  0.4279, -0.2401, -0.3364,  0.0193, -0.1809,  0.4153, -0.4132,\n",
      "        -0.2878,  0.4040, -0.3872,  0.3503,  0.2858, -0.1925, -0.4488,  0.2992,\n",
      "         0.5738,  0.3496,  0.0873,  0.4732,  0.5112,  0.0539, -0.0250,  0.5614])\n",
      "fc2.weight tensor([[ 0.1372,  0.0169,  0.1556, -0.0017,  0.0780,  0.0681, -0.0888,  0.1414,\n",
      "         -0.0264,  0.0163,  0.0547,  0.1743,  0.1178, -0.0995,  0.1651,  0.1676,\n",
      "          0.0735, -0.1045,  0.1194, -0.0817, -0.0578, -0.0913, -0.0314, -0.1637,\n",
      "         -0.0807, -0.0508, -0.1581, -0.0572,  0.0075,  0.1116, -0.0533,  0.0206]])\n",
      "fc2.bias tensor([0.0579])\n"
     ]
    }
   ],
   "source": [
    "# your code here\n",
    "# print model wights\n",
    "# display the weights for the best performing model (model3)\n",
    "print('Model 3 weights:')\n",
    "for name, param in model3.named_parameters():\n",
    "    if param.requires_grad:\n",
    "        print(name, param.data)"
   ]
  },
  {
   "cell_type": "code",
   "execution_count": null,
   "id": "4cdf09ba",
   "metadata": {},
   "outputs": [],
   "source": []
  },
  {
   "cell_type": "code",
   "execution_count": null,
   "id": "d0bea66c",
   "metadata": {},
   "outputs": [],
   "source": []
  },
  {
   "cell_type": "code",
   "execution_count": null,
   "id": "e29c65a2",
   "metadata": {},
   "outputs": [],
   "source": []
  }
 ],
 "metadata": {
  "kernelspec": {
   "display_name": "Python 3 (ipykernel)",
   "language": "python",
   "name": "python3"
  },
  "language_info": {
   "codemirror_mode": {
    "name": "ipython",
    "version": 3
   },
   "file_extension": ".py",
   "mimetype": "text/x-python",
   "name": "python",
   "nbconvert_exporter": "python",
   "pygments_lexer": "ipython3",
   "version": "3.9.0"
  }
 },
 "nbformat": 4,
 "nbformat_minor": 5
}
